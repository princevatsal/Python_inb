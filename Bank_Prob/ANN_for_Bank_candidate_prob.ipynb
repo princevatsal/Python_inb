{
 "cells": [
  {
   "cell_type": "code",
   "execution_count": 1,
   "metadata": {},
   "outputs": [],
   "source": [
    "import numpy as np\n",
    "import matplotlib.pyplot as plt\n",
    "import pandas as pd\n",
    "\n",
    "# Importing the dataset\n",
    "dataset = pd.read_csv('Churn_Modelling.csv')\n",
    "X = dataset.iloc[:, 3:13].values\n",
    "y = dataset.iloc[:, 13].values"
   ]
  },
  {
   "cell_type": "code",
   "execution_count": 3,
   "metadata": {},
   "outputs": [
    {
     "data": {
      "text/plain": [
       "array([1, 0, 1, ..., 1, 1, 0], dtype=int64)"
      ]
     },
     "execution_count": 3,
     "metadata": {},
     "output_type": "execute_result"
    }
   ],
   "source": [
    "y"
   ]
  },
  {
   "cell_type": "code",
   "execution_count": 4,
   "metadata": {},
   "outputs": [],
   "source": [
    "from sklearn.preprocessing import LabelEncoder, OneHotEncoder\n",
    "labelencoder_X_1 = LabelEncoder()\n",
    "X[:, 1] = labelencoder_X_1.fit_transform(X[:, 1])\n",
    "labelencoder_X_2 = LabelEncoder()\n",
    "X[:, 2] = labelencoder_X_2.fit_transform(X[:, 2])"
   ]
  },
  {
   "cell_type": "code",
   "execution_count": 35,
   "metadata": {},
   "outputs": [],
   "source": [
    "import sklearn.preprocessing"
   ]
  },
  {
   "cell_type": "code",
   "execution_count": null,
   "metadata": {},
   "outputs": [],
   "source": [
    "a=X[:,1]\n",
    "a=a.tolist()"
   ]
  },
  {
   "cell_type": "code",
   "execution_count": 66,
   "metadata": {},
   "outputs": [],
   "source": [
    "label_binarizer = sklearn.preprocessing.LabelBinarizer()"
   ]
  },
  {
   "cell_type": "code",
   "execution_count": null,
   "metadata": {},
   "outputs": [],
   "source": [
    "label_binarizer.fit(range(max(a)+1))"
   ]
  },
  {
   "cell_type": "code",
   "execution_count": 89,
   "metadata": {},
   "outputs": [],
   "source": [
    "b = label_binarizer.transform(a)"
   ]
  },
  {
   "cell_type": "code",
   "execution_count": null,
   "metadata": {},
   "outputs": [],
   "source": []
  },
  {
   "cell_type": "code",
   "execution_count": null,
   "metadata": {},
   "outputs": [],
   "source": []
  },
  {
   "cell_type": "code",
   "execution_count": null,
   "metadata": {},
   "outputs": [],
   "source": []
  },
  {
   "cell_type": "code",
   "execution_count": null,
   "metadata": {},
   "outputs": [],
   "source": []
  },
  {
   "cell_type": "code",
   "execution_count": 121,
   "metadata": {},
   "outputs": [],
   "source": [
    "X=np.concatenate((b,X),1)"
   ]
  },
  {
   "cell_type": "code",
   "execution_count": 129,
   "metadata": {},
   "outputs": [],
   "source": [
    "X=X[:,1:]"
   ]
  },
  {
   "cell_type": "code",
   "execution_count": 130,
   "metadata": {},
   "outputs": [
    {
     "data": {
      "text/plain": [
       "array([[0, 0, 619, ..., 1, 1, 101348.88],\n",
       "       [0, 1, 608, ..., 0, 1, 112542.58],\n",
       "       [0, 0, 502, ..., 1, 0, 113931.57],\n",
       "       ...,\n",
       "       [0, 0, 709, ..., 0, 1, 42085.58],\n",
       "       [1, 0, 772, ..., 1, 0, 92888.52],\n",
       "       [0, 0, 792, ..., 1, 0, 38190.78]], dtype=object)"
      ]
     },
     "execution_count": 130,
     "metadata": {},
     "output_type": "execute_result"
    }
   ],
   "source": [
    "X"
   ]
  },
  {
   "cell_type": "code",
   "execution_count": 131,
   "metadata": {},
   "outputs": [
    {
     "data": {
      "text/plain": [
       "array([1, 0, 1, ..., 1, 1, 0], dtype=int64)"
      ]
     },
     "execution_count": 131,
     "metadata": {},
     "output_type": "execute_result"
    }
   ],
   "source": [
    "y"
   ]
  },
  {
   "cell_type": "code",
   "execution_count": 134,
   "metadata": {},
   "outputs": [
    {
     "name": "stdout",
     "output_type": "stream",
     "text": [
      "(10000, 11) (10000,)\n"
     ]
    }
   ],
   "source": [
    "print(X.shape,y.shape)"
   ]
  },
  {
   "cell_type": "code",
   "execution_count": 135,
   "metadata": {},
   "outputs": [],
   "source": [
    "from sklearn.model_selection import train_test_split"
   ]
  },
  {
   "cell_type": "code",
   "execution_count": 136,
   "metadata": {},
   "outputs": [],
   "source": [
    "X_train,X_test,y_train,y_test=train_test_split(X,y,test_size=0.2,random_state=0)"
   ]
  },
  {
   "cell_type": "code",
   "execution_count": 145,
   "metadata": {},
   "outputs": [
    {
     "data": {
      "text/plain": [
       "(8000, 11)"
      ]
     },
     "execution_count": 145,
     "metadata": {},
     "output_type": "execute_result"
    }
   ],
   "source": [
    "X_train.shape"
   ]
  },
  {
   "cell_type": "code",
   "execution_count": 144,
   "metadata": {},
   "outputs": [
    {
     "data": {
      "text/plain": [
       "(2000, 11)"
      ]
     },
     "execution_count": 144,
     "metadata": {},
     "output_type": "execute_result"
    }
   ],
   "source": [
    "X_test.shape"
   ]
  },
  {
   "cell_type": "code",
   "execution_count": 142,
   "metadata": {},
   "outputs": [
    {
     "data": {
      "text/plain": [
       "8000"
      ]
     },
     "execution_count": 142,
     "metadata": {},
     "output_type": "execute_result"
    }
   ],
   "source": [
    "len(y_train)"
   ]
  },
  {
   "cell_type": "code",
   "execution_count": 143,
   "metadata": {},
   "outputs": [
    {
     "data": {
      "text/plain": [
       "2000"
      ]
     },
     "execution_count": 143,
     "metadata": {},
     "output_type": "execute_result"
    }
   ],
   "source": [
    "len(y_test)"
   ]
  },
  {
   "cell_type": "code",
   "execution_count": 164,
   "metadata": {},
   "outputs": [],
   "source": [
    "from sklearn.preprocessing import StandardScaler"
   ]
  },
  {
   "cell_type": "code",
   "execution_count": 167,
   "metadata": {},
   "outputs": [],
   "source": [
    "scaler = StandardScaler()"
   ]
  },
  {
   "cell_type": "code",
   "execution_count": 175,
   "metadata": {},
   "outputs": [],
   "source": [
    "X_test=scaler.fit_transform(X_test)\n",
    "X_train=scaler.fit_transform(X_train)"
   ]
  },
  {
   "cell_type": "code",
   "execution_count": 180,
   "metadata": {},
   "outputs": [
    {
     "data": {
      "text/plain": [
       "(2000, 11)"
      ]
     },
     "execution_count": 180,
     "metadata": {},
     "output_type": "execute_result"
    }
   ],
   "source": [
    "X_test.shape"
   ]
  },
  {
   "cell_type": "code",
   "execution_count": 181,
   "metadata": {},
   "outputs": [
    {
     "name": "stderr",
     "output_type": "stream",
     "text": [
      "Using TensorFlow backend.\n"
     ]
    }
   ],
   "source": [
    "import keras\n",
    "from keras.models import Sequential\n",
    "from keras.layers import Dense"
   ]
  },
  {
   "cell_type": "code",
   "execution_count": 184,
   "metadata": {},
   "outputs": [],
   "source": [
    "classifier=Sequential()"
   ]
  },
  {
   "cell_type": "code",
   "execution_count": 185,
   "metadata": {},
   "outputs": [
    {
     "name": "stderr",
     "output_type": "stream",
     "text": [
      "c:\\users\\hp\\appdata\\local\\programs\\python\\python37\\lib\\site-packages\\ipykernel_launcher.py:1: UserWarning: Update your `Dense` call to the Keras 2 API: `Dense(activation=\"relu\", input_dim=11, units=6, kernel_initializer=\"uniform\")`\n",
      "  \"\"\"Entry point for launching an IPython kernel.\n"
     ]
    }
   ],
   "source": [
    "classifier.add(Dense(output_dim=6,init='uniform',activation='relu',input_dim=11))"
   ]
  },
  {
   "cell_type": "code",
   "execution_count": 186,
   "metadata": {},
   "outputs": [
    {
     "name": "stderr",
     "output_type": "stream",
     "text": [
      "c:\\users\\hp\\appdata\\local\\programs\\python\\python37\\lib\\site-packages\\ipykernel_launcher.py:1: UserWarning: Update your `Dense` call to the Keras 2 API: `Dense(activation=\"relu\", units=6, kernel_initializer=\"uniform\")`\n",
      "  \"\"\"Entry point for launching an IPython kernel.\n"
     ]
    }
   ],
   "source": [
    "classifier.add(Dense(output_dim=6,init='uniform',activation='relu'))"
   ]
  },
  {
   "cell_type": "code",
   "execution_count": 187,
   "metadata": {},
   "outputs": [
    {
     "name": "stderr",
     "output_type": "stream",
     "text": [
      "c:\\users\\hp\\appdata\\local\\programs\\python\\python37\\lib\\site-packages\\ipykernel_launcher.py:1: UserWarning: Update your `Dense` call to the Keras 2 API: `Dense(activation=\"sigmoid\", units=1, kernel_initializer=\"uniform\")`\n",
      "  \"\"\"Entry point for launching an IPython kernel.\n"
     ]
    }
   ],
   "source": [
    "classifier.add(Dense(output_dim=1,init='uniform',activation='sigmoid',))"
   ]
  },
  {
   "cell_type": "code",
   "execution_count": 190,
   "metadata": {},
   "outputs": [],
   "source": [
    "classifier.compile(optimizer='adam',loss='binary_crossentropy',metrics=['accuracy'])"
   ]
  },
  {
   "cell_type": "code",
   "execution_count": 191,
   "metadata": {},
   "outputs": [
    {
     "name": "stderr",
     "output_type": "stream",
     "text": [
      "c:\\users\\hp\\appdata\\local\\programs\\python\\python37\\lib\\site-packages\\ipykernel_launcher.py:1: UserWarning: The `nb_epoch` argument in `fit` has been renamed `epochs`.\n",
      "  \"\"\"Entry point for launching an IPython kernel.\n"
     ]
    },
    {
     "name": "stdout",
     "output_type": "stream",
     "text": [
      "Epoch 1/100\n",
      "8000/8000 [==============================] - 2s 215us/step - loss: 0.4959 - accuracy: 0.7951\n",
      "Epoch 2/100\n",
      "8000/8000 [==============================] - 1s 185us/step - loss: 0.4287 - accuracy: 0.7960\n",
      "Epoch 3/100\n",
      "8000/8000 [==============================] - 1s 176us/step - loss: 0.4235 - accuracy: 0.7960\n",
      "Epoch 4/100\n",
      "8000/8000 [==============================] - 1s 173us/step - loss: 0.4202 - accuracy: 0.8079\n",
      "Epoch 5/100\n",
      "8000/8000 [==============================] - 1s 178us/step - loss: 0.4171 - accuracy: 0.8251\n",
      "Epoch 6/100\n",
      "8000/8000 [==============================] - 1s 178us/step - loss: 0.4158 - accuracy: 0.8291\n",
      "Epoch 7/100\n",
      "8000/8000 [==============================] - 1s 175us/step - loss: 0.4139 - accuracy: 0.8294\n",
      "Epoch 8/100\n",
      "8000/8000 [==============================] - 1s 175us/step - loss: 0.4126 - accuracy: 0.8319\n",
      "Epoch 9/100\n",
      "8000/8000 [==============================] - 1s 178us/step - loss: 0.4114 - accuracy: 0.8328\n",
      "Epoch 10/100\n",
      "8000/8000 [==============================] - 1s 177us/step - loss: 0.4101 - accuracy: 0.8319\n",
      "Epoch 11/100\n",
      "8000/8000 [==============================] - 1s 177us/step - loss: 0.4093 - accuracy: 0.8332\n",
      "Epoch 12/100\n",
      "8000/8000 [==============================] - 1s 178us/step - loss: 0.4081 - accuracy: 0.8359\n",
      "Epoch 13/100\n",
      "8000/8000 [==============================] - 1s 179us/step - loss: 0.4079 - accuracy: 0.8338\n",
      "Epoch 14/100\n",
      "8000/8000 [==============================] - 1s 178us/step - loss: 0.4066 - accuracy: 0.8344\n",
      "Epoch 15/100\n",
      "8000/8000 [==============================] - 1s 179us/step - loss: 0.4061 - accuracy: 0.8349\n",
      "Epoch 16/100\n",
      "8000/8000 [==============================] - 1s 178us/step - loss: 0.4058 - accuracy: 0.8350\n",
      "Epoch 17/100\n",
      "8000/8000 [==============================] - 1s 178us/step - loss: 0.4053 - accuracy: 0.8342\n",
      "Epoch 18/100\n",
      "8000/8000 [==============================] - 1s 176us/step - loss: 0.4049 - accuracy: 0.8355\n",
      "Epoch 19/100\n",
      "8000/8000 [==============================] - 1s 178us/step - loss: 0.4048 - accuracy: 0.8354\n",
      "Epoch 20/100\n",
      "8000/8000 [==============================] - 1s 175us/step - loss: 0.4046 - accuracy: 0.8341\n",
      "Epoch 21/100\n",
      "8000/8000 [==============================] - 1s 177us/step - loss: 0.4041 - accuracy: 0.8349\n",
      "Epoch 22/100\n",
      "8000/8000 [==============================] - 1s 174us/step - loss: 0.4041 - accuracy: 0.8356\n",
      "Epoch 23/100\n",
      "8000/8000 [==============================] - 1s 178us/step - loss: 0.4037 - accuracy: 0.8353\n",
      "Epoch 24/100\n",
      "8000/8000 [==============================] - 1s 177us/step - loss: 0.4034 - accuracy: 0.8350\n",
      "Epoch 25/100\n",
      "8000/8000 [==============================] - 1s 177us/step - loss: 0.4034 - accuracy: 0.8349\n",
      "Epoch 26/100\n",
      "8000/8000 [==============================] - 1s 177us/step - loss: 0.4031 - accuracy: 0.8361\n",
      "Epoch 27/100\n",
      "8000/8000 [==============================] - 1s 176us/step - loss: 0.4029 - accuracy: 0.8369\n",
      "Epoch 28/100\n",
      "8000/8000 [==============================] - 1s 177us/step - loss: 0.4027 - accuracy: 0.8350\n",
      "Epoch 29/100\n",
      "8000/8000 [==============================] - 1s 175us/step - loss: 0.4028 - accuracy: 0.8338\n",
      "Epoch 30/100\n",
      "8000/8000 [==============================] - 1s 186us/step - loss: 0.4027 - accuracy: 0.8351\n",
      "Epoch 31/100\n",
      "8000/8000 [==============================] - 1s 183us/step - loss: 0.4022 - accuracy: 0.8342\n",
      "Epoch 32/100\n",
      "8000/8000 [==============================] - 1s 178us/step - loss: 0.4017 - accuracy: 0.8357\n",
      "Epoch 33/100\n",
      "8000/8000 [==============================] - 1s 176us/step - loss: 0.4022 - accuracy: 0.8349\n",
      "Epoch 34/100\n",
      "8000/8000 [==============================] - 1s 172us/step - loss: 0.4020 - accuracy: 0.8342\n",
      "Epoch 35/100\n",
      "8000/8000 [==============================] - 1s 180us/step - loss: 0.4025 - accuracy: 0.8341\n",
      "Epoch 36/100\n",
      "8000/8000 [==============================] - 1s 134us/step - loss: 0.4016 - accuracy: 0.8340\n",
      "Epoch 37/100\n",
      "8000/8000 [==============================] - 2s 191us/step - loss: 0.4018 - accuracy: 0.8351\n",
      "Epoch 38/100\n",
      "8000/8000 [==============================] - 2s 189us/step - loss: 0.4021 - accuracy: 0.8355\n",
      "Epoch 39/100\n",
      "8000/8000 [==============================] - 2s 189us/step - loss: 0.4019 - accuracy: 0.8345\n",
      "Epoch 40/100\n",
      "8000/8000 [==============================] - 2s 193us/step - loss: 0.4020 - accuracy: 0.8344\n",
      "Epoch 41/100\n",
      "8000/8000 [==============================] - 1s 185us/step - loss: 0.4016 - accuracy: 0.8345\n",
      "Epoch 42/100\n",
      "8000/8000 [==============================] - 1s 186us/step - loss: 0.4012 - accuracy: 0.8349\n",
      "Epoch 43/100\n",
      "8000/8000 [==============================] - 1s 186us/step - loss: 0.4015 - accuracy: 0.8354\n",
      "Epoch 44/100\n",
      "8000/8000 [==============================] - 1s 186us/step - loss: 0.4015 - accuracy: 0.8355\n",
      "Epoch 45/100\n",
      "8000/8000 [==============================] - 1s 186us/step - loss: 0.4014 - accuracy: 0.8346\n",
      "Epoch 46/100\n",
      "8000/8000 [==============================] - 1s 187us/step - loss: 0.4011 - accuracy: 0.8353\n",
      "Epoch 47/100\n",
      "8000/8000 [==============================] - 1s 186us/step - loss: 0.4014 - accuracy: 0.8353\n",
      "Epoch 48/100\n",
      "8000/8000 [==============================] - 1s 186us/step - loss: 0.4012 - accuracy: 0.8355\n",
      "Epoch 49/100\n",
      "8000/8000 [==============================] - 1s 186us/step - loss: 0.4012 - accuracy: 0.8354\n",
      "Epoch 50/100\n",
      "8000/8000 [==============================] - 1s 186us/step - loss: 0.4009 - accuracy: 0.8350\n",
      "Epoch 51/100\n",
      "8000/8000 [==============================] - 1s 186us/step - loss: 0.4011 - accuracy: 0.8340\n",
      "Epoch 52/100\n",
      "8000/8000 [==============================] - 1s 185us/step - loss: 0.4006 - accuracy: 0.8361\n",
      "Epoch 53/100\n",
      "8000/8000 [==============================] - 1s 185us/step - loss: 0.4013 - accuracy: 0.8350\n",
      "Epoch 54/100\n",
      "8000/8000 [==============================] - 1s 186us/step - loss: 0.4007 - accuracy: 0.8354\n",
      "Epoch 55/100\n",
      "8000/8000 [==============================] - 1s 186us/step - loss: 0.4010 - accuracy: 0.8347\n",
      "Epoch 56/100\n",
      "8000/8000 [==============================] - 1s 186us/step - loss: 0.4009 - accuracy: 0.8354\n",
      "Epoch 57/100\n",
      "8000/8000 [==============================] - 1s 185us/step - loss: 0.4010 - accuracy: 0.8359\n",
      "Epoch 58/100\n",
      "8000/8000 [==============================] - 1s 185us/step - loss: 0.4005 - accuracy: 0.8364\n",
      "Epoch 59/100\n",
      "8000/8000 [==============================] - 1s 185us/step - loss: 0.4007 - accuracy: 0.8357\n",
      "Epoch 60/100\n",
      "8000/8000 [==============================] - 1s 186us/step - loss: 0.4009 - accuracy: 0.8341\n",
      "Epoch 61/100\n",
      "8000/8000 [==============================] - 1s 187us/step - loss: 0.4009 - accuracy: 0.8346\n",
      "Epoch 62/100\n",
      "8000/8000 [==============================] - 1s 186us/step - loss: 0.4010 - accuracy: 0.8354\n",
      "Epoch 63/100\n",
      "8000/8000 [==============================] - 1s 185us/step - loss: 0.4009 - accuracy: 0.8350\n",
      "Epoch 64/100\n",
      "8000/8000 [==============================] - 1s 186us/step - loss: 0.4006 - accuracy: 0.8347\n",
      "Epoch 65/100\n",
      "8000/8000 [==============================] - 1s 186us/step - loss: 0.4009 - accuracy: 0.8350\n",
      "Epoch 66/100\n",
      "8000/8000 [==============================] - 1s 186us/step - loss: 0.4005 - accuracy: 0.8356\n",
      "Epoch 67/100\n",
      "8000/8000 [==============================] - 1s 186us/step - loss: 0.4009 - accuracy: 0.8354\n",
      "Epoch 68/100\n",
      "8000/8000 [==============================] - 1s 185us/step - loss: 0.4009 - accuracy: 0.8347\n",
      "Epoch 69/100\n",
      "8000/8000 [==============================] - 1s 186us/step - loss: 0.4004 - accuracy: 0.8353\n",
      "Epoch 70/100\n",
      "8000/8000 [==============================] - 2s 189us/step - loss: 0.4007 - accuracy: 0.8354\n",
      "Epoch 71/100\n",
      "8000/8000 [==============================] - 1s 159us/step - loss: 0.4007 - accuracy: 0.8345\n",
      "Epoch 72/100\n",
      "8000/8000 [==============================] - 1s 186us/step - loss: 0.4006 - accuracy: 0.8351\n",
      "Epoch 73/100\n",
      "8000/8000 [==============================] - 2s 189us/step - loss: 0.4006 - accuracy: 0.8340\n",
      "Epoch 74/100\n",
      "8000/8000 [==============================] - 1s 185us/step - loss: 0.4004 - accuracy: 0.8356\n",
      "Epoch 75/100\n",
      "8000/8000 [==============================] - 2s 192us/step - loss: 0.4004 - accuracy: 0.8355\n",
      "Epoch 76/100\n",
      "8000/8000 [==============================] - 1s 186us/step - loss: 0.4007 - accuracy: 0.8332\n",
      "Epoch 77/100\n",
      "8000/8000 [==============================] - 1s 186us/step - loss: 0.4006 - accuracy: 0.8359\n",
      "Epoch 78/100\n"
     ]
    },
    {
     "name": "stdout",
     "output_type": "stream",
     "text": [
      "8000/8000 [==============================] - 2s 194us/step - loss: 0.4006 - accuracy: 0.8357\n",
      "Epoch 79/100\n",
      "8000/8000 [==============================] - 2s 190us/step - loss: 0.4005 - accuracy: 0.8355\n",
      "Epoch 80/100\n",
      "8000/8000 [==============================] - 1s 182us/step - loss: 0.4008 - accuracy: 0.8351\n",
      "Epoch 81/100\n",
      "8000/8000 [==============================] - 1s 183us/step - loss: 0.4004 - accuracy: 0.8353\n",
      "Epoch 82/100\n",
      "8000/8000 [==============================] - 1s 183us/step - loss: 0.4007 - accuracy: 0.8357\n",
      "Epoch 83/100\n",
      "8000/8000 [==============================] - 1s 182us/step - loss: 0.4004 - accuracy: 0.8339\n",
      "Epoch 84/100\n",
      "8000/8000 [==============================] - 1s 183us/step - loss: 0.4005 - accuracy: 0.8355\n",
      "Epoch 85/100\n",
      "8000/8000 [==============================] - 1s 183us/step - loss: 0.4006 - accuracy: 0.8357\n",
      "Epoch 86/100\n",
      "8000/8000 [==============================] - 1s 183us/step - loss: 0.4003 - accuracy: 0.8347\n",
      "Epoch 87/100\n",
      "8000/8000 [==============================] - 1s 183us/step - loss: 0.4004 - accuracy: 0.8356\n",
      "Epoch 88/100\n",
      "8000/8000 [==============================] - 1s 183us/step - loss: 0.4001 - accuracy: 0.8349\n",
      "Epoch 89/100\n",
      "8000/8000 [==============================] - 1s 183us/step - loss: 0.4001 - accuracy: 0.8353\n",
      "Epoch 90/100\n",
      "8000/8000 [==============================] - 1s 184us/step - loss: 0.4003 - accuracy: 0.8364\n",
      "Epoch 91/100\n",
      "8000/8000 [==============================] - 1s 183us/step - loss: 0.4002 - accuracy: 0.8359\n",
      "Epoch 92/100\n",
      "8000/8000 [==============================] - 1s 183us/step - loss: 0.4005 - accuracy: 0.8346\n",
      "Epoch 93/100\n",
      "8000/8000 [==============================] - 1s 183us/step - loss: 0.4000 - accuracy: 0.8354\n",
      "Epoch 94/100\n",
      "8000/8000 [==============================] - 1s 183us/step - loss: 0.4002 - accuracy: 0.8353\n",
      "Epoch 95/100\n",
      "8000/8000 [==============================] - 1s 183us/step - loss: 0.4006 - accuracy: 0.8359\n",
      "Epoch 96/100\n",
      "8000/8000 [==============================] - 1s 183us/step - loss: 0.4002 - accuracy: 0.8354\n",
      "Epoch 97/100\n",
      "8000/8000 [==============================] - 1s 183us/step - loss: 0.4005 - accuracy: 0.8365\n",
      "Epoch 98/100\n",
      "8000/8000 [==============================] - 1s 183us/step - loss: 0.3998 - accuracy: 0.8370\n",
      "Epoch 99/100\n",
      "8000/8000 [==============================] - 1s 183us/step - loss: 0.4002 - accuracy: 0.8344\n",
      "Epoch 100/100\n",
      "8000/8000 [==============================] - 1s 183us/step - loss: 0.4002 - accuracy: 0.8366\n"
     ]
    },
    {
     "data": {
      "text/plain": [
       "<keras.callbacks.callbacks.History at 0x1f94bdf4688>"
      ]
     },
     "execution_count": 191,
     "metadata": {},
     "output_type": "execute_result"
    }
   ],
   "source": [
    "classifier.fit(X_train,y_train,batch_size=10,nb_epoch=100)"
   ]
  },
  {
   "cell_type": "code",
   "execution_count": 192,
   "metadata": {},
   "outputs": [],
   "source": [
    "y_pred=classifier.predict(X_test)"
   ]
  },
  {
   "cell_type": "code",
   "execution_count": 197,
   "metadata": {},
   "outputs": [],
   "source": [
    "y_pred_tf=(y_pred>0.5)"
   ]
  },
  {
   "cell_type": "code",
   "execution_count": 208,
   "metadata": {},
   "outputs": [
    {
     "data": {
      "text/plain": [
       "array([ True])"
      ]
     },
     "execution_count": 208,
     "metadata": {},
     "output_type": "execute_result"
    }
   ],
   "source": [
    "y_pred_tf[5]"
   ]
  },
  {
   "cell_type": "code",
   "execution_count": 215,
   "metadata": {},
   "outputs": [],
   "source": [
    "if(y_test[6]==y_pred_tf[5]):\n",
    "    print('cool')"
   ]
  },
  {
   "cell_type": "code",
   "execution_count": 217,
   "metadata": {},
   "outputs": [],
   "source": [
    "cnt_true=0\n",
    "cnt_fls=0"
   ]
  },
  {
   "cell_type": "code",
   "execution_count": 220,
   "metadata": {},
   "outputs": [],
   "source": [
    "for i in range(len(X_test)):\n",
    "    if(y_test[i]==y_pred_tf[i]):\n",
    "        cnt_true=cnt_true+1\n",
    "    else:\n",
    "        cnt_fls=cnt_fls+1"
   ]
  },
  {
   "cell_type": "code",
   "execution_count": 224,
   "metadata": {},
   "outputs": [
    {
     "data": {
      "text/plain": [
       "84.2"
      ]
     },
     "execution_count": 224,
     "metadata": {},
     "output_type": "execute_result"
    }
   ],
   "source": [
    "(cnt_true/2000)*100"
   ]
  },
  {
   "cell_type": "code",
   "execution_count": 226,
   "metadata": {},
   "outputs": [
    {
     "data": {
      "text/plain": [
       "1684"
      ]
     },
     "execution_count": 226,
     "metadata": {},
     "output_type": "execute_result"
    }
   ],
   "source": [
    "cnt_true"
   ]
  },
  {
   "cell_type": "code",
   "execution_count": 227,
   "metadata": {},
   "outputs": [
    {
     "data": {
      "text/plain": [
       "316"
      ]
     },
     "execution_count": 227,
     "metadata": {},
     "output_type": "execute_result"
    }
   ],
   "source": [
    "cnt_fls"
   ]
  },
  {
   "cell_type": "code",
   "execution_count": 228,
   "metadata": {},
   "outputs": [],
   "source": [
    "from sklearn.metrics import confusion_matrix"
   ]
  },
  {
   "cell_type": "code",
   "execution_count": 231,
   "metadata": {},
   "outputs": [],
   "source": [
    "cm=confusion_matrix(y_test,y_pred_tf)"
   ]
  },
  {
   "cell_type": "code",
   "execution_count": 232,
   "metadata": {},
   "outputs": [
    {
     "data": {
      "text/plain": [
       "array([[1540,   55],\n",
       "       [ 261,  144]], dtype=int64)"
      ]
     },
     "execution_count": 232,
     "metadata": {},
     "output_type": "execute_result"
    }
   ],
   "source": [
    "cm"
   ]
  },
  {
   "cell_type": "code",
   "execution_count": 237,
   "metadata": {},
   "outputs": [
    {
     "data": {
      "text/plain": [
       "84.2"
      ]
     },
     "execution_count": 237,
     "metadata": {},
     "output_type": "execute_result"
    }
   ],
   "source": [
    "((1540+144)/2000)*100"
   ]
  },
  {
   "cell_type": "code",
   "execution_count": null,
   "metadata": {},
   "outputs": [],
   "source": []
  },
  {
   "cell_type": "code",
   "execution_count": null,
   "metadata": {},
   "outputs": [],
   "source": []
  },
  {
   "cell_type": "code",
   "execution_count": null,
   "metadata": {},
   "outputs": [],
   "source": []
  }
 ],
 "metadata": {
  "kernelspec": {
   "display_name": "Python 3",
   "language": "python",
   "name": "python3"
  },
  "language_info": {
   "codemirror_mode": {
    "name": "ipython",
    "version": 3
   },
   "file_extension": ".py",
   "mimetype": "text/x-python",
   "name": "python",
   "nbconvert_exporter": "python",
   "pygments_lexer": "ipython3",
   "version": "3.7.7"
  }
 },
 "nbformat": 4,
 "nbformat_minor": 4
}
